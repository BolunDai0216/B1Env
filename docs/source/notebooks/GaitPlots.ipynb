{
 "cells": [
  {
   "cell_type": "markdown",
   "id": "350ab458",
   "metadata": {},
   "source": [
    "# Gait Plots"
   ]
  },
  {
   "cell_type": "code",
   "execution_count": 1,
   "id": "4f10efa6",
   "metadata": {},
   "outputs": [],
   "source": [
    "import matplotlib.pyplot as plt\n",
    "import matplotlib as mpl\n",
    "import numpy as np"
   ]
  },
  {
   "cell_type": "code",
   "execution_count": 2,
   "id": "59c7e98e",
   "metadata": {},
   "outputs": [],
   "source": [
    "mpl.rcParams['text.usetex'] = True\n",
    "mpl.rcParams['text.latex.preamble'] = r'\\usepackage{amsmath}'\n",
    "plt.rcParams[\"font.size\"] = 18"
   ]
  },
  {
   "cell_type": "code",
   "execution_count": 3,
   "id": "3e336bcd",
   "metadata": {},
   "outputs": [
    {
     "data": {
      "image/png": "[encoded data removed]",
      "text/plain": [
       "<Figure size 1080x180 with 3 Axes>"
      ]
     },
     "metadata": {
      "needs_background": "light"
     },
     "output_type": "display_data"
    }
   ],
   "source": [
    "fig, axs = plt.subplots(1, 3, figsize=(15, 2.5))\n",
    "stance_color = \"black\"\n",
    "swing_color = \"white\"\n",
    "edge_color = \"black\"\n",
    "\n",
    "# Walking Gait\n",
    "axs[0].broken_barh([(0, 10), (10, 10), (20, 10)], (13, 4), facecolors=stance_color, edgecolor=edge_color)\n",
    "axs[0].broken_barh([(30, 10)], (13, 4), facecolors=swing_color, edgecolor=edge_color)\n",
    "\n",
    "axs[0].broken_barh([(0, 10), (20, 10), (30, 10)], (8, 4), facecolors=stance_color, edgecolor=edge_color)\n",
    "axs[0].broken_barh([(10, 10)], (8, 4), facecolors=swing_color, edgecolor=edge_color)\n",
    "\n",
    "axs[0].broken_barh([(10, 10), (20, 10), (30, 10)], (3, 4), facecolors=stance_color, edgecolor=edge_color)\n",
    "axs[0].broken_barh([(0, 10)], (3, 4), facecolors=swing_color, edgecolor=edge_color)\n",
    "\n",
    "axs[0].broken_barh([(0, 10), (10, 10), (30, 10)], (-2, 4), facecolors=stance_color, edgecolor=edge_color)\n",
    "axs[0].broken_barh([(20, 10)], (-2, 4), facecolors=swing_color, edgecolor=edge_color)\n",
    "\n",
    "\n",
    "axs[0].set_xticks([0, 40])\n",
    "axs[0].set_xticklabels([r\"$\\textbf{Start}$\"+\"\\n\"+r\"$\\textbf{Cycle}$\", r\"$\\textbf{End}$\"+\"\\n\"+r\"$\\textbf{Cycle}$\"])\n",
    "axs[0].set_yticks([0, 5, 10, 15])\n",
    "axs[0].set_yticklabels([r\"$\\textbf{HR}$\", r\"$\\textbf{HL}$\", r\"$\\textbf{FR}$\", r\"$\\textbf{FL}$\"])\n",
    "axs[0].tick_params(left=False, bottom=False)\n",
    "axs[0].spines['top'].set_visible(False)\n",
    "axs[0].spines['bottom'].set_visible(False)\n",
    "axs[0].spines['left'].set_visible(False)\n",
    "axs[0].spines['right'].set_visible(False)\n",
    "axs[0].set_title(r\"$\\textbf{Walk Gait}$\", fontsize=16)\n",
    "axs[0].set_aspect('equal')\n",
    "\n",
    "\n",
    "# Trotting Gait\n",
    "axs[1].broken_barh([(0, 20)], (13, 4), facecolors=stance_color, edgecolor=edge_color, label=r\"$\\textbf{Stance Phase}$\")\n",
    "axs[1].broken_barh([(20, 20)], (13, 4), facecolors=swing_color, edgecolor=edge_color, label=r\"$\\textbf{Swing Phase}$\")\n",
    "\n",
    "axs[1].broken_barh([(20, 20)], (8, 4), facecolors=stance_color, edgecolor=edge_color)\n",
    "axs[1].broken_barh([(0, 20)], (8, 4), facecolors=swing_color, edgecolor=edge_color)\n",
    "\n",
    "axs[1].broken_barh([(20, 20)], (3, 4), facecolors=stance_color, edgecolor=edge_color)\n",
    "axs[1].broken_barh([(0, 20)], (3, 4), facecolors=swing_color, edgecolor=edge_color)\n",
    "\n",
    "axs[1].broken_barh([(0, 20)], (-2, 4), facecolors=stance_color, edgecolor=edge_color)\n",
    "axs[1].broken_barh([(20, 20)], (-2, 4), facecolors=swing_color, edgecolor=edge_color)\n",
    "\n",
    "axs[1].set_xticks([0, 40])\n",
    "axs[1].set_xticklabels([r\"$\\textbf{Start}$\"+\"\\n\"+r\"$\\textbf{Cycle}$\", r\"$\\textbf{End}$\"+\"\\n\"+r\"$\\textbf{Cycle}$\"])\n",
    "axs[1].set_yticks([0, 5, 10, 15])\n",
    "axs[1].set_yticklabels([r\"$\\textbf{HR}$\", r\"$\\textbf{HL}$\", r\"$\\textbf{FR}$\", r\"$\\textbf{FL}$\"])\n",
    "axs[1].tick_params(left=False, bottom=False)\n",
    "axs[1].spines['top'].set_visible(False)\n",
    "axs[1].spines['bottom'].set_visible(False)\n",
    "axs[1].spines['left'].set_visible(False)\n",
    "axs[1].spines['right'].set_visible(False)\n",
    "axs[1].set_title(r\"$\\textbf{Trot Gait}$\", fontsize=16)\n",
    "axs[1].set_aspect('equal')\n",
    "\n",
    "handles, labels = axs[1].get_legend_handles_labels()\n",
    "fig.legend(handles, labels, loc='lower center', bbox_to_anchor=(0.5, -0.35), frameon=False, ncol=2)\n",
    "\n",
    "# Gallop Gait\n",
    "axs[2].broken_barh([(30, 10)], (13, 4), facecolors=stance_color, edgecolor=edge_color)\n",
    "axs[2].broken_barh([(0, 30)], (13, 4), facecolors=swing_color, edgecolor=edge_color)\n",
    "\n",
    "axs[2].broken_barh([(10, 10)], (8, 4), facecolors=stance_color, edgecolor=edge_color)\n",
    "axs[2].broken_barh([(0, 10), (20, 20)], (8, 4), facecolors=swing_color, edgecolor=edge_color)\n",
    "\n",
    "axs[2].broken_barh([(0, 10)], (3, 4), facecolors=stance_color, edgecolor=edge_color)\n",
    "axs[2].broken_barh([(10, 30)], (3, 4), facecolors=swing_color, edgecolor=edge_color)\n",
    "\n",
    "axs[2].broken_barh([(20, 10)], (-2, 4), facecolors=stance_color, edgecolor=edge_color)\n",
    "axs[2].broken_barh([(0, 20), (30, 10)], (-2, 4), facecolors=swing_color, edgecolor=edge_color)\n",
    "\n",
    "\n",
    "axs[2].set_xticks([0, 40])\n",
    "axs[2].set_xticklabels([r\"$\\textbf{Start}$\"+\"\\n\"+r\"$\\textbf{Cycle}$\", r\"$\\textbf{End}$\"+\"\\n\"+r\"$\\textbf{Cycle}$\"])\n",
    "axs[2].set_yticks([0, 5, 10, 15])\n",
    "axs[2].set_yticklabels([r\"$\\textbf{HR}$\", r\"$\\textbf{HL}$\", r\"$\\textbf{FR}$\", r\"$\\textbf{FL}$\"])\n",
    "axs[2].tick_params(left=False, bottom=False)\n",
    "axs[2].spines['top'].set_visible(False)\n",
    "axs[2].spines['bottom'].set_visible(False)\n",
    "axs[2].spines['left'].set_visible(False)\n",
    "axs[2].spines['right'].set_visible(False)\n",
    "axs[2].set_title(r\"$\\textbf{Gallop Gait}$\", fontsize=16)\n",
    "axs[2].set_aspect('equal')\n",
    "\n",
    "plt.savefig(\"../images/GaitPhasePlots.png\", dpi=200, transparent=False, bbox_inches=\"tight\")"
   ]
  },
  {
   "cell_type": "code",
   "execution_count": 4,
   "id": "743babe6",
   "metadata": {},
   "outputs": [
    {
     "data": {
      "image/png": "[encoded data removed]",
      "text/plain": [
       "<Figure size 1440x216 with 3 Axes>"
      ]
     },
     "metadata": {
      "needs_background": "light"
     },
     "output_type": "display_data"
    }
   ],
   "source": [
    "fig, axs = plt.subplots(1, 3, figsize=(20, 3))\n",
    "stance_color = \"black\"\n",
    "swing_color = \"white\"\n",
    "edge_color = \"black\"\n",
    "\n",
    "# Walking Gait\n",
    "axs[0].broken_barh([(0, 30)], (13, 4), facecolors=stance_color, edgecolor=edge_color)\n",
    "axs[0].broken_barh([(30, 10)], (13, 4), facecolors=swing_color, edgecolor=edge_color)\n",
    "\n",
    "axs[0].broken_barh([(-20, 30)], (8, 4), facecolors=stance_color, edgecolor=edge_color)\n",
    "axs[0].broken_barh([(10, 10)], (8, 4), facecolors=swing_color, edgecolor=edge_color)\n",
    "\n",
    "axs[0].broken_barh([(-30, 30)], (3, 4), facecolors=stance_color, edgecolor=edge_color)\n",
    "axs[0].broken_barh([(0, 10)], (3, 4), facecolors=swing_color, edgecolor=edge_color)\n",
    "\n",
    "axs[0].broken_barh([(-10, 30)], (-2, 4), facecolors=stance_color, edgecolor=edge_color)\n",
    "axs[0].broken_barh([(20, 10)], (-2, 4), facecolors=swing_color, edgecolor=edge_color)\n",
    "\n",
    "\n",
    "axs[0].set_xticks([0])\n",
    "axs[0].set_xticklabels([r\"$\\textbf{Start}$\"+\"\\n\"+r\"$\\textbf{Cycle}$\"])\n",
    "axs[0].set_yticks([0, 5, 10, 15])\n",
    "axs[0].set_yticklabels([r\"$\\textbf{HR}$\", r\"$\\textbf{HL}$\", r\"$\\textbf{FR}$\", r\"$\\textbf{FL}$\"])\n",
    "axs[0].tick_params(left=False, bottom=False)\n",
    "axs[0].spines['top'].set_visible(False)\n",
    "axs[0].spines['bottom'].set_visible(False)\n",
    "axs[0].spines['left'].set_visible(False)\n",
    "axs[0].spines['right'].set_visible(False)\n",
    "axs[0].set_title(r\"$\\textbf{Walk Gait}$\", fontsize=16)\n",
    "axs[0].set_aspect('equal')\n",
    "\n",
    "# Trotting Gait\n",
    "axs[1].broken_barh([(0, 20)], (13, 4), facecolors=stance_color, edgecolor=edge_color, label=r\"$\\textbf{Stance Phase}$\")\n",
    "axs[1].broken_barh([(20, 20)], (13, 4), facecolors=swing_color, edgecolor=edge_color, label=r\"$\\textbf{Swing Phase}$\")\n",
    "\n",
    "axs[1].broken_barh([(-20, 20)], (8, 4), facecolors=stance_color, edgecolor=edge_color)\n",
    "axs[1].broken_barh([(0, 20)], (8, 4), facecolors=swing_color, edgecolor=edge_color)\n",
    "\n",
    "axs[1].broken_barh([(-20, 20)], (3, 4), facecolors=stance_color, edgecolor=edge_color)\n",
    "axs[1].broken_barh([(0, 20)], (3, 4), facecolors=swing_color, edgecolor=edge_color)\n",
    "\n",
    "axs[1].broken_barh([(0, 20)], (-2, 4), facecolors=stance_color, edgecolor=edge_color)\n",
    "axs[1].broken_barh([(20, 20)], (-2, 4), facecolors=swing_color, edgecolor=edge_color)\n",
    "\n",
    "axs[1].set_xticks([0])\n",
    "axs[1].set_xticklabels([r\"$\\textbf{Start}$\"+\"\\n\"+r\"$\\textbf{Cycle}$\"])\n",
    "axs[1].set_yticks([0, 5, 10, 15])\n",
    "axs[1].set_yticklabels([r\"$\\textbf{HR}$\", r\"$\\textbf{HL}$\", r\"$\\textbf{FR}$\", r\"$\\textbf{FL}$\"])\n",
    "axs[1].tick_params(left=False, bottom=False)\n",
    "axs[1].spines['top'].set_visible(False)\n",
    "axs[1].spines['bottom'].set_visible(False)\n",
    "axs[1].spines['left'].set_visible(False)\n",
    "axs[1].spines['right'].set_visible(False)\n",
    "axs[1].set_title(r\"$\\textbf{Trot Gait}$\", fontsize=16)\n",
    "axs[1].set_aspect('equal')\n",
    "\n",
    "handles, labels = axs[1].get_legend_handles_labels()\n",
    "fig.legend(handles, labels, loc='lower center', bbox_to_anchor=(0.5, -0.1), frameon=False, ncol=2)\n",
    "\n",
    "# Gallop Gait\n",
    "axs[2].broken_barh([(-10, 10)], (13, 4), facecolors=stance_color, edgecolor=edge_color)\n",
    "axs[2].broken_barh([(0, 30)], (13, 4), facecolors=swing_color, edgecolor=edge_color)\n",
    "\n",
    "axs[2].broken_barh([(-30, 10)], (8, 4), facecolors=stance_color, edgecolor=edge_color)\n",
    "axs[2].broken_barh([(-20, 30)], (8, 4), facecolors=swing_color, edgecolor=edge_color)\n",
    "\n",
    "axs[2].broken_barh([(0, 10)], (3, 4), facecolors=stance_color, edgecolor=edge_color)\n",
    "axs[2].broken_barh([(10, 30)], (3, 4), facecolors=swing_color, edgecolor=edge_color)\n",
    "\n",
    "axs[2].broken_barh([(-20, 10)], (-2, 4), facecolors=stance_color, edgecolor=edge_color)\n",
    "axs[2].broken_barh([(-10, 30)], (-2, 4), facecolors=swing_color, edgecolor=edge_color)\n",
    "\n",
    "\n",
    "axs[2].set_xticks([0])\n",
    "axs[2].set_xticklabels([r\"$\\textbf{Start}$\"+\"\\n\"+r\"$\\textbf{Cycle}$\"])\n",
    "axs[2].set_yticks([0, 5, 10, 15])\n",
    "axs[2].set_yticklabels([r\"$\\textbf{HR}$\", r\"$\\textbf{HL}$\", r\"$\\textbf{FR}$\", r\"$\\textbf{FL}$\"])\n",
    "axs[2].tick_params(left=False, bottom=False)\n",
    "axs[2].spines['top'].set_visible(False)\n",
    "axs[2].spines['bottom'].set_visible(False)\n",
    "axs[2].spines['left'].set_visible(False)\n",
    "axs[2].spines['right'].set_visible(False)\n",
    "axs[2].set_title(r\"$\\textbf{Gallop Gait}$\", fontsize=16)\n",
    "axs[2].set_aspect('equal')\n",
    "\n",
    "plt.savefig(\"../images/GaitPhaseOffsetPlots.png\", dpi=200, transparent=False, bbox_inches=\"tight\")"
   ]
  },
  {
   "cell_type": "code",
   "execution_count": null,
   "id": "f27ab10a",
   "metadata": {},
   "outputs": [],
   "source": []
  }
 ],
 "metadata": {
  "kernelspec": {
   "display_name": "mim_env",
   "language": "python",
   "name": "mim_env"
  },
  "language_info": {
   "codemirror_mode": {
    "name": "ipython",
    "version": 3
   },
   "file_extension": ".py",
   "mimetype": "text/x-python",
   "name": "python",
   "nbconvert_exporter": "python",
   "pygments_lexer": "ipython3",
   "version": "3.8.13"
  },
  "vscode": {
   "interpreter": {
    "hash": "4f645a474884dbca16e72e44e8cd6743c90ca717ad3c67160fc7ac361c8ef869"
   }
  }
 },
 "nbformat": 4,
 "nbformat_minor": 5
}
